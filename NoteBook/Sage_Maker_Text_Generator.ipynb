{
  "nbformat": 4,
  "nbformat_minor": 0,
  "metadata": {
    "colab": {
      "name": "Sage_Maker_Text_Generator.ipynb",
      "provenance": [],
      "collapsed_sections": []
    },
    "kernelspec": {
      "name": "python3",
      "display_name": "Python 3"
    },
    "language_info": {
      "name": "python"
    }
  },
  "cells": [
    {
      "cell_type": "markdown",
      "source": [
        "## Connecting to S3 Bucket "
      ],
      "metadata": {
        "id": "CkHT0M6cx6KO"
      }
    },
    {
      "cell_type": "code",
      "execution_count": null,
      "metadata": {
        "id": "Gp3-5NDGxvzP"
      },
      "outputs": [],
      "source": [
        "import boto3\n",
        "import io\n",
        "bucket = 'textgenerationbucket'\n",
        "key = 'text_data/Reviews.csv'\n",
        "s3_client = boto3.client('s3')\n",
        "obj = s3_client.get_object(Bucket=bucket, Key=key)"
      ]
    },
    {
      "cell_type": "code",
      "source": [
        "# Importing Nessesary Packages:\n",
        "\n",
        "import pandas as pd\n",
        "import os\n",
        "import re\n",
        "import numpy as np\n",
        "import torch"
      ],
      "metadata": {
        "id": "aEIFMiXO3pFt"
      },
      "execution_count": null,
      "outputs": []
    },
    {
      "cell_type": "markdown",
      "source": [
        "## Reading The Data"
      ],
      "metadata": {
        "id": "KNINU9p76TW2"
      }
    },
    {
      "cell_type": "code",
      "source": [
        "# Reading the Data:\n",
        "\n",
        "df = pd.read_csv(io.BytesIO(obj['Body'].read()))\n",
        "df.head()"
      ],
      "metadata": {
        "id": "nUDOd7Kn3ygV"
      },
      "execution_count": null,
      "outputs": []
    },
    {
      "cell_type": "code",
      "source": [
        "data = df[['Text']]"
      ],
      "metadata": {
        "id": "LfcTgb3E6BIV"
      },
      "execution_count": null,
      "outputs": []
    },
    {
      "cell_type": "code",
      "source": [
        "# Making all the words to lower case:\n",
        "\n",
        "data[\"Text\"] = [re.sub(\"[^a-z' ]\", \"\", i.lower()) for i in data[\"Text\"]]\n",
        "data"
      ],
      "metadata": {
        "id": "eK2INtuD33N8"
      },
      "execution_count": null,
      "outputs": []
    },
    {
      "cell_type": "code",
      "source": [
        "# Printing a sample:\n",
        "\n",
        "data[\"Text\"][0]"
      ],
      "metadata": {
        "id": "EXYL0UOw4CyA"
      },
      "execution_count": null,
      "outputs": []
    },
    {
      "cell_type": "markdown",
      "source": [
        "## Creating the Sequence"
      ],
      "metadata": {
        "id": "E0rIa8hn6aVB"
      }
    },
    {
      "cell_type": "code",
      "source": [
        "# Function to create a sequence of length 10 Tokens:\n",
        "def create_seq(text, seq_len = 10):\n",
        "    \n",
        "    sequences = []\n",
        "    \n",
        "    #if the number of tokens in text is greater than 5\n",
        "    if len(text.split()) > seq_len:\n",
        "        for i in range(seq_len, len(text.split())):\n",
        "            # Select sequence of tokens\n",
        "            seq = text.split()[i-seq_len:i+1]\n",
        "            #add to the list\n",
        "            sequences.append(\" \".join(seq))\n",
        "        return sequences\n",
        "    else:\n",
        "        return[text]\n",
        "        "
      ],
      "metadata": {
        "id": "U6UNp8FT4FWo"
      },
      "execution_count": null,
      "outputs": []
    },
    {
      "cell_type": "code",
      "source": [
        "sentence =\"i have bought several of the vitality canned dog food products and have found them all to be of good quality the product looks more like a stew than a processed meatand it smells better my labrador is finicky and she appreciates this product better than most.\""
      ],
      "metadata": {
        "id": "c_swT1IA4JN9"
      },
      "execution_count": null,
      "outputs": []
    },
    {
      "cell_type": "code",
      "source": [
        "create_seq(sentence)"
      ],
      "metadata": {
        "id": "Bt3I1hQR4K2M"
      },
      "execution_count": null,
      "outputs": []
    },
    {
      "cell_type": "code",
      "source": [
        "# Creating a list of text:\n",
        "\n",
        "seq = []\n",
        "text = data[\"Text\"].values\n",
        "for i in range(10000):\n",
        "    seqi = create_seq(text[i])\n",
        "    seq.extend([s for s in seqi if len(s.split(\" \")) == 11])\n",
        "    "
      ],
      "metadata": {
        "id": "zhRHQMvN4PGg"
      },
      "execution_count": null,
      "outputs": []
    },
    {
      "cell_type": "code",
      "source": [
        "len(seq)"
      ],
      "metadata": {
        "id": "JnVCecbK4S1V"
      },
      "execution_count": null,
      "outputs": []
    },
    {
      "cell_type": "code",
      "source": [
        "for i in range(652581,652591):\n",
        "    print(seq[i])"
      ],
      "metadata": {
        "id": "3tOYjZWz4U14"
      },
      "execution_count": null,
      "outputs": []
    },
    {
      "cell_type": "code",
      "source": [
        "# create inputs and targets (x and y)\n",
        "x = []\n",
        "y = []\n",
        "\n",
        "for s in seq:\n",
        "      if len(s.split()) == 11:\n",
        "        x.append(\" \".join(s.split()[:-1]))\n",
        "        y.append(\" \".join(s.split()[1:]))"
      ],
      "metadata": {
        "id": "egf5xnFH4Wwa"
      },
      "execution_count": null,
      "outputs": []
    },
    {
      "cell_type": "code",
      "source": [
        "# Printing Last 5 Texts of  x:\n",
        "\n",
        "for i in range(652581,652591):\n",
        "    print(x[i])"
      ],
      "metadata": {
        "id": "XAyB1LKX4YrM"
      },
      "execution_count": null,
      "outputs": []
    },
    {
      "cell_type": "code",
      "source": [
        "#Printing Last 5 Texts of y:\n",
        "\n",
        "for i in range(652581,652591):\n",
        "    print(y[i])"
      ],
      "metadata": {
        "id": "TAggwH8s4azb"
      },
      "execution_count": null,
      "outputs": []
    },
    {
      "cell_type": "code",
      "source": [
        "# create integer-to-token mapping\n",
        "int2token = {}\n",
        "cnt = 0\n",
        "\n",
        "for w in set(\" \".join(seq).split()):\n",
        "    int2token[cnt] = w\n",
        "    cnt+= 1\n",
        "\n",
        "# create token-to-integer mapping\n",
        "token2int = {t: i for i, t in int2token.items()}"
      ],
      "metadata": {
        "id": "ffMWcurx4cuO"
      },
      "execution_count": null,
      "outputs": []
    },
    {
      "cell_type": "code",
      "source": [
        "#Creating 2 dictionary that maps token\n",
        "\n",
        "print(token2int[\"the\"]) # Token-to-Integer\n",
        "\n",
        "print(int2token[7171])  # Integer-to-Token"
      ],
      "metadata": {
        "id": "pcB7qc3d4eht"
      },
      "execution_count": null,
      "outputs": []
    },
    {
      "cell_type": "markdown",
      "source": [
        "## Saving the Dictionary as Json File to s3"
      ],
      "metadata": {
        "id": "77PqC6zi6lLW"
      }
    },
    {
      "cell_type": "code",
      "source": [
        "import json \n",
        "dict1 = token2int\n",
        "dict2 = int2token\n",
        "s3 = boto3.resource('s3') \n",
        "obj1 = s3.Object('textgenerationbucket','inputs/token2int.json')\n",
        "obj = s3.Object('textgenerationbucket','inputs/int2token.json') \n",
        "obj1.put(Body=json.dumps(dict1))\n",
        "obj.put(Body=json.dumps(dict2))"
      ],
      "metadata": {
        "id": "6q5ae1br4gpW"
      },
      "execution_count": null,
      "outputs": []
    },
    {
      "cell_type": "code",
      "source": [
        "# set vocabulary size\n",
        "vocab_size = len(int2token)\n",
        "vocab_size"
      ],
      "metadata": {
        "id": "X1XWdI1B4kRa"
      },
      "execution_count": null,
      "outputs": []
    },
    {
      "cell_type": "code",
      "source": [
        "# converting text sequences to integer sequences:\n",
        "\n",
        "x_int = [get_integer_seq(i) for i in x]\n",
        "y_int = [get_integer_seq(i) for i in y]"
      ],
      "metadata": {
        "id": "LH1dhYyD4oAo"
      },
      "execution_count": null,
      "outputs": []
    },
    {
      "cell_type": "code",
      "source": [
        "np.array(x_int).shape"
      ],
      "metadata": {
        "id": "dS9NYGcO4ph4"
      },
      "execution_count": null,
      "outputs": []
    },
    {
      "cell_type": "markdown",
      "source": [
        "## Saving the processed Input to S3"
      ],
      "metadata": {
        "id": "7nMOPdvX6t6D"
      }
    },
    {
      "cell_type": "code",
      "source": [
        "upload_dir = 'inputs/'\n",
        "if not os.path.exists(upload_dir): # Make sure that the folder exists\n",
        "    os.makedirs(upload_dir)\n",
        "\n",
        "np.save(os.path.join(upload_dir, 'y_int.npy'), y_int)\n",
        "np.save(os.path.join(upload_dir, 'x_int.npy'), x_int)"
      ],
      "metadata": {
        "id": "-ZPdJVBH4r2y"
      },
      "execution_count": null,
      "outputs": []
    },
    {
      "cell_type": "code",
      "source": [
        "# convert lists to numpy arrays\n",
        "x_int = torch.tensor(np.array(x_int))\n",
        "y_int = torch.tensor(np.array(y_int))"
      ],
      "metadata": {
        "id": "L3COOcjZ46zq"
      },
      "execution_count": null,
      "outputs": []
    },
    {
      "cell_type": "code",
      "source": [
        "x_int[0]"
      ],
      "metadata": {
        "id": "5YJYCcqs5UjZ"
      },
      "execution_count": null,
      "outputs": []
    },
    {
      "cell_type": "markdown",
      "source": [
        "## Defining the Model "
      ],
      "metadata": {
        "id": "FkJa9Jwn63m5"
      }
    },
    {
      "cell_type": "code",
      "execution_count": null,
      "metadata": {
        "id": "0u4TAQm3msFm"
      },
      "outputs": [],
      "source": [
        "class WordLSTM(nn.Module):\n",
        "    \n",
        "    def __init__(self, n_hidden=256, n_layers=4, drop_prob=0.3, lr=0.001):\n",
        "        super().__init__()\n",
        "\n",
        "        self.drop_prob = drop_prob\n",
        "        self.n_layers = n_layers\n",
        "        self.n_hidden = n_hidden\n",
        "        self.lr = lr\n",
        "        \n",
        "        self.emb_layer = nn.Embedding(vocab_size, 200)\n",
        "\n",
        "        ## define the LSTM\n",
        "        self.lstm = nn.LSTM(200, n_hidden, n_layers, \n",
        "                            dropout=drop_prob, batch_first=True)\n",
        "        \n",
        "        ## define a dropout layer\n",
        "        self.dropout = nn.Dropout(drop_prob)\n",
        "        \n",
        "        ## define the fully-connected layer\n",
        "        self.fc = nn.Linear(n_hidden, vocab_size)      \n",
        "    \n",
        "    def forward(self, x, hidden):\n",
        "        ''' Forward pass through the network. \n",
        "            These inputs are x, and the hidden/cell state `hidden`. '''\n",
        "\n",
        "        ## pass input through embedding layer\n",
        "        embedded = self.emb_layer(x)     \n",
        "        \n",
        "        ## Get the outputs and the new hidden state from the lstm\n",
        "        lstm_output, hidden = self.lstm(embedded, hidden)\n",
        "        \n",
        "        ## pass through a dropout layer\n",
        "        out = self.dropout(lstm_output)\n",
        "        \n",
        "        #out = out.contiguous().view(-1, self.n_hidden) \n",
        "        out = out.reshape(-1, self.n_hidden) \n",
        "\n",
        "        ## put \"out\" through the fully-connected layer\n",
        "        out = self.fc(out)\n",
        "\n",
        "        # return the final output and the hidden state\n",
        "        return out, hidden\n",
        "    \n",
        "    \n",
        "    def init_hidden(self, batch_size):\n",
        "        ''' initializes hidden state '''\n",
        "        # Create two new tensors with sizes n_layers x batch_size x n_hidden,\n",
        "        # initialized to zero, for hidden state and cell state of LSTM\n",
        "        weight = next(self.parameters()).data\n",
        "\n",
        "        # if GPU is available\n",
        "        if (torch.cuda.is_available()):\n",
        "          hidden = (weight.new(self.n_layers, batch_size, self.n_hidden).zero_().cuda(),\n",
        "                    weight.new(self.n_layers, batch_size, self.n_hidden).zero_().cuda())\n",
        "        \n",
        "        # if GPU is not available\n",
        "        else:\n",
        "          hidden = (weight.new(self.n_layers, batch_size, self.n_hidden).zero_(),\n",
        "                    weight.new(self.n_layers, batch_size, self.n_hidden).zero_())\n",
        "        \n",
        "        return hidden"
      ]
    },
    {
      "cell_type": "markdown",
      "source": [
        "# Making the Model Use GPU"
      ],
      "metadata": {
        "id": "kODPfdQr6-dN"
      }
    },
    {
      "cell_type": "code",
      "source": [
        "net = WordLSTM()\n",
        "\n",
        "# push the model to GPU (avoid it if you are not using the GPU)\n",
        "net.cuda()\n",
        "\n",
        "print(net)"
      ],
      "metadata": {
        "id": "c4qSWHUm5cbY"
      },
      "execution_count": null,
      "outputs": []
    },
    {
      "cell_type": "markdown",
      "source": [
        "##  Function to Training the Model"
      ],
      "metadata": {
        "id": "uOo-Rv1x7I1O"
      }
    },
    {
      "cell_type": "code",
      "execution_count": null,
      "metadata": {
        "id": "aqWK4wrjm8sp"
      },
      "outputs": [],
      "source": [
        "def train(net, epochs=10, batch_size=32, lr=0.001, clip=1, print_every=32):\n",
        "    \n",
        "    # optimizer\n",
        "    opt = torch.optim.Adam(net.parameters(), lr=lr)\n",
        "    \n",
        "    # loss\n",
        "    criterion = nn.CrossEntropyLoss()\n",
        "    \n",
        "    # push model to GPU\n",
        "    net.cuda()\n",
        "\n",
        "    counter = 0\n",
        "\n",
        "    net.train()\n",
        "\n",
        "    for e in range(epochs):\n",
        "\n",
        "        # initialize hidden state\n",
        "        h = net.init_hidden(batch_size)\n",
        "        \n",
        "        for x, y in get_batches(x_int, y_int, batch_size):\n",
        "            counter+= 1\n",
        "            \n",
        "            # convert numpy arrays to PyTorch arrays\n",
        "            # inputs, targets = torch.tensor(x, dtype=torch.float), torch.tensor(y, dtype=torch.float)\n",
        "            inputs, targets = x, y\n",
        "            \n",
        "            # push tensors to GPU\n",
        "            inputs, targets = inputs.cuda(), targets.cuda()\n",
        "\n",
        "            # detach hidden states\n",
        "            h = tuple([each.data for each in h])\n",
        "\n",
        "            # zero accumulated gradients\n",
        "            net.zero_grad()\n",
        "            \n",
        "            # get the output from the model\n",
        "            output, h = net(inputs, h)\n",
        "            \n",
        "            # calculate the loss and perform backprop\n",
        "            loss = criterion(output, targets.view(-1))\n",
        "\n",
        "            # back-propagate error\n",
        "            loss.backward()\n",
        "\n",
        "            # `clip_grad_norm` helps prevent the exploding gradient problem in RNNs / LSTMs.\n",
        "            nn.utils.clip_grad_norm_(net.parameters(), clip)\n",
        "\n",
        "            # update weigths\n",
        "            opt.step()            \n",
        "            \n",
        "            if counter % print_every == 0:\n",
        "            \n",
        "              print(\"Epoch: {}/{}...\".format(e+1, epochs),\n",
        "                    \"Step: {}...\".format(counter))"
      ]
    },
    {
      "cell_type": "code",
      "source": [
        "def get_batches(arr_x, arr_y, batch_size):\n",
        "         \n",
        "    # iterate through the arrays\n",
        "    prv = 0\n",
        "    for n in range(batch_size, arr_x.shape[0], batch_size):\n",
        "      # print(arr_x)\n",
        "      x = arr_x[prv:n]\n",
        "      y = arr_y[prv:n]\n",
        "      prv = n\n",
        "      yield x, y"
      ],
      "metadata": {
        "id": "4AJAPUYK5hXK"
      },
      "execution_count": null,
      "outputs": []
    },
    {
      "cell_type": "markdown",
      "source": [
        "## Training the Model"
      ],
      "metadata": {
        "id": "h_5L9YSI7ZYT"
      }
    },
    {
      "cell_type": "code",
      "source": [
        "train(net, batch_size = 100, epochs=20, print_every=512)"
      ],
      "metadata": {
        "id": "RfYkjf_05m1D"
      },
      "execution_count": null,
      "outputs": []
    },
    {
      "cell_type": "markdown",
      "source": [
        "## Function to Make Prediction"
      ],
      "metadata": {
        "id": "xbA1aDzy7gXL"
      }
    },
    {
      "cell_type": "code",
      "execution_count": null,
      "metadata": {
        "id": "JsO90utKYZtw"
      },
      "outputs": [],
      "source": [
        "# predict next token\n",
        "def predict(net, tkn, h=None):\n",
        "         \n",
        "  # tensor inputs\n",
        "  x = np.array([[token2int[tkn]]])\n",
        "  inputs = torch.from_numpy(x)\n",
        "  \n",
        "  # push to GPU\n",
        "  inputs = inputs.cuda()\n",
        "\n",
        "  # detach hidden state from history\n",
        "  h = tuple([each.data for each in h])\n",
        "\n",
        "  # get the output of the model\n",
        "  print(inputs, h)\n",
        "  out, h = net(inputs)\n",
        "\n",
        "  # get the token probabilities\n",
        "  p = F.softmax(out, dim=1).data\n",
        "\n",
        "  p = p.cpu()\n",
        "\n",
        "  p = p.numpy()\n",
        "  p = p.reshape(p.shape[1],)\n",
        "\n",
        "  # get indices of top 3 values\n",
        "  top_n_idx = p.argsort()[-3:][::-1]\n",
        "\n",
        "  # randomly select one of the three indices\n",
        "  sampled_token_index = top_n_idx[random.sample([0,1,2],1)[0]]\n",
        "\n",
        "  # return the encoded value of the predicted char and the hidden state\n",
        "  return int2token[sampled_token_index], h\n",
        "\n",
        "\n",
        "# function to generate text\n",
        "def sample(net, size, prime='it is'):\n",
        "        \n",
        "    # push to GPU\n",
        "    # net.cuda()\n",
        "    \n",
        "    net.eval()\n",
        "\n",
        "    # batch size is 1\n",
        "    h = net.init_hidden(1)\n",
        "    \n",
        "    toks = prime.split()\n",
        "\n",
        "    # predict next token\n",
        "    for t in prime.split():\n",
        "      token, h = predict(net, t, h)\n",
        "    \n",
        "    toks.append(token)\n",
        "\n",
        "    # predict subsequent tokens\n",
        "    for i in range(size-1):\n",
        "        token, h = predict(net, toks[-1], h)\n",
        "        toks.append(token)\n",
        "\n",
        "    return ' '.join(toks)"
      ]
    },
    {
      "cell_type": "markdown",
      "source": [
        "## Making the Model Predict New Data"
      ],
      "metadata": {
        "id": "Vo0kU7td7nBN"
      }
    },
    {
      "cell_type": "code",
      "source": [
        "sample(net, 5, prime = \"amazing product\")"
      ],
      "metadata": {
        "id": "Z0nR-DXX6P5C"
      },
      "execution_count": null,
      "outputs": []
    }
  ]
}